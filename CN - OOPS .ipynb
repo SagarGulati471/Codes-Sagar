{
 "cells": [
  {
   "cell_type": "code",
   "execution_count": null,
   "metadata": {},
   "outputs": [],
   "source": []
  },
  {
   "cell_type": "code",
   "execution_count": 5,
   "metadata": {},
   "outputs": [
    {
     "name": "stdout",
     "output_type": "stream",
     "text": [
      "Counter({2: 3, 1: 2, 3: 2})\n",
      "2\n"
     ]
    }
   ],
   "source": [
    "from collections import Counter\n",
    "W=[1,2,3,2,3,1,2]\n",
    "a=Counter(W)\n",
    "res=None\n",
    "for i in a:\n",
    "    if a[i]%2==1:\n",
    "        res=i\n",
    "print(a)\n",
    "print(res)"
   ]
  },
  {
   "cell_type": "code",
   "execution_count": null,
   "metadata": {},
   "outputs": [],
   "source": []
  },
  {
   "cell_type": "code",
   "execution_count": null,
   "metadata": {},
   "outputs": [],
   "source": []
  },
  {
   "cell_type": "code",
   "execution_count": null,
   "metadata": {},
   "outputs": [],
   "source": []
  },
  {
   "cell_type": "code",
   "execution_count": null,
   "metadata": {},
   "outputs": [],
   "source": []
  },
  {
   "cell_type": "code",
   "execution_count": null,
   "metadata": {},
   "outputs": [],
   "source": []
  },
  {
   "cell_type": "code",
   "execution_count": null,
   "metadata": {},
   "outputs": [],
   "source": []
  },
  {
   "cell_type": "code",
   "execution_count": null,
   "metadata": {},
   "outputs": [],
   "source": []
  },
  {
   "cell_type": "code",
   "execution_count": 41,
   "metadata": {},
   "outputs": [
    {
     "name": "stdout",
     "output_type": "stream",
     "text": [
      "\n",
      "28/48\n",
      "num= 28\n",
      "den= 48\n",
      "7/12\n"
     ]
    }
   ],
   "source": [
    "#Fraction Class\n",
    "\n",
    "class fraction:\n",
    "    def __init__(self,num=0,den=1):\n",
    "        self.num=num\n",
    "        self.den=den\n",
    "    \n",
    "    def print_frac(self):\n",
    "        if self.den==1:\n",
    "            print(self.num)\n",
    "        elif self.num==0:\n",
    "            print(0)\n",
    "        elif self.den==0:\n",
    "            print(\"It is an infinite number\")\n",
    "        elif self.num!=0 and self.den!=1:\n",
    "            print(str(self.num)+\"/\"+str(self.den))\n",
    "    def hcf(self,a,b):\n",
    "        while a!=b:\n",
    "            if a>b:\n",
    "                x=a-b\n",
    "                a=x\n",
    "            else:\n",
    "                x=b-a\n",
    "                b=x\n",
    "        return a\n",
    "    \n",
    "    \n",
    "    def simplify_fraction(self):\n",
    "        d=self.hcf(self.num,self.den)\n",
    "        out=(str(self.num//d)+\"/\"+str(self.den//d))\n",
    "        #print(out)\n",
    "        return out\n",
    "    \n",
    "    def add(self,otherfraction):\n",
    "        num_result=(self.num*otherfraction.den)+(self.den*otherfraction.num)\n",
    "        den_result=self.den*otherfraction.den\n",
    "        self.num=num_result\n",
    "        self.den=den_result\n",
    "        print(\"Original form = \",end=\" \")\n",
    "        self.print_frac()\n",
    "        res=self.simplify_fraction()\n",
    "        print(res)\n",
    "    \n",
    "    def multiply(self,other):\n",
    "        new_num=self.num*other.num\n",
    "        new_den=self.den*other.den\n",
    "        self.num=new_num\n",
    "        self.den=new_den\n",
    "        self.print_frac()\n",
    "        res=self.simplify_fraction()\n",
    "        print(\"num=\",self.num)\n",
    "        print(\"den=\",self.den)\n",
    "        print(res)\n",
    "        \n",
    "f1=fraction(4,6)\n",
    "f2=fraction(7,8)\n",
    "\n",
    "print()\n",
    "\n",
    "f1.multiply(f2)\n"
   ]
  },
  {
   "cell_type": "code",
   "execution_count": null,
   "metadata": {},
   "outputs": [],
   "source": [
    "#Inheritance\n",
    "\n",
    "class vehicle:\n",
    "    def __init__(self,color,reg_no,price):\n",
    "        self.color=color\n",
    "        self.reg_no=reg_no\n",
    "        self.__price=price\n",
    "        \n",
    "    def getprice(self):\n",
    "        return self.__price\n",
    "\n",
    "    def setprice(self,price):\n",
    "        self.__price=price\n",
    "        \n",
    "class car(vehicle):    #capcity,no_of_gears\n",
    "    def __init__(self,color,reg_no,price,capcity,no_of_gears):\n",
    "        self.capacity=capacity\n",
    "        self.no_of_gears=no_of_gears\n",
    "        super().__init__(color,reg_no,price)\n",
    "    \n",
    "    \n",
    "        "
   ]
  },
  {
   "cell_type": "code",
   "execution_count": 5,
   "metadata": {},
   "outputs": [
    {
     "name": "stdout",
     "output_type": "stream",
     "text": [
      "The name of Child is  Manju\n"
     ]
    }
   ],
   "source": [
    "class Mother:\n",
    "    def __init__(self):\n",
    "        self.name=\"Manju\"\n",
    "    \n",
    "    def print(self):\n",
    "        print(\"The name of Mother is \",self.name)\n",
    "\n",
    "class Father:\n",
    "    def __init__(self):\n",
    "        self.name=\"Ajay\"\n",
    "    \n",
    "    \n",
    "    def print(self):\n",
    "        print(\"The name of Father is \",self.name)\n",
    "    \n",
    "\n",
    "class Child(Mother,Father):\n",
    "    def __init__(self):\n",
    "        super().__init__()\n",
    "        \n",
    "    \n",
    "    def print(self):\n",
    "        print(\"The name of Child is \",self.name)\n",
    "  \n",
    "\n",
    "obj1=Child()\n",
    "obj1.print()"
   ]
  },
  {
   "cell_type": "code",
   "execution_count": 6,
   "metadata": {},
   "outputs": [
    {
     "name": "stdout",
     "output_type": "stream",
     "text": [
      "9\n"
     ]
    }
   ],
   "source": [
    "#Operator Overloading\n",
    "\n",
    "class A:\n",
    "    def __init__(self,x):\n",
    "        self.x=x\n",
    "    \n",
    "    def __add__(self,other):\n",
    "        return self.x+other.x\n",
    "    \n",
    "class B:\n",
    "    def __init__(self,x):\n",
    "        self.x=x\n",
    "\n",
    "a=A(4)\n",
    "b=B(5)\n",
    "print(a+b)\n"
   ]
  },
  {
   "cell_type": "markdown",
   "metadata": {},
   "source": [
    "# Abstract class"
   ]
  },
  {
   "cell_type": "code",
   "execution_count": null,
   "metadata": {},
   "outputs": [],
   "source": [
    "from abc import ABC,abstracmethod      # abc is module and ABC is abstract base class \n",
    "\n",
    "\n",
    "class A(ABC):\n",
    "    \n",
    "\n"
   ]
  },
  {
   "cell_type": "code",
   "execution_count": null,
   "metadata": {},
   "outputs": [],
   "source": []
  },
  {
   "cell_type": "code",
   "execution_count": null,
   "metadata": {},
   "outputs": [],
   "source": []
  },
  {
   "cell_type": "code",
   "execution_count": null,
   "metadata": {},
   "outputs": [],
   "source": []
  },
  {
   "cell_type": "code",
   "execution_count": 4,
   "metadata": {},
   "outputs": [
    {
     "name": "stdout",
     "output_type": "stream",
     "text": [
      "1 2 3 4\n",
      "2\n",
      "44\n",
      "[1, 44, 2, 3, 4]\n"
     ]
    }
   ],
   "source": [
    "\n",
    "\n",
    "a=list(map(int,input().split()))\n",
    "pos=int(input())\n",
    "val=int(input())\n",
    "\n",
    "a.insert(pos-1,val)\n",
    "print(a)"
   ]
  },
  {
   "cell_type": "code",
   "execution_count": null,
   "metadata": {},
   "outputs": [],
   "source": []
  },
  {
   "cell_type": "code",
   "execution_count": null,
   "metadata": {},
   "outputs": [],
   "source": []
  },
  {
   "cell_type": "code",
   "execution_count": null,
   "metadata": {},
   "outputs": [],
   "source": []
  },
  {
   "cell_type": "code",
   "execution_count": null,
   "metadata": {},
   "outputs": [],
   "source": []
  },
  {
   "cell_type": "code",
   "execution_count": null,
   "metadata": {},
   "outputs": [],
   "source": []
  },
  {
   "cell_type": "code",
   "execution_count": null,
   "metadata": {},
   "outputs": [],
   "source": []
  },
  {
   "cell_type": "code",
   "execution_count": null,
   "metadata": {},
   "outputs": [],
   "source": []
  },
  {
   "cell_type": "code",
   "execution_count": null,
   "metadata": {},
   "outputs": [],
   "source": []
  },
  {
   "cell_type": "code",
   "execution_count": null,
   "metadata": {},
   "outputs": [],
   "source": []
  },
  {
   "cell_type": "code",
   "execution_count": null,
   "metadata": {},
   "outputs": [],
   "source": []
  }
 ],
 "metadata": {
  "kernelspec": {
   "display_name": "Python 3",
   "language": "python",
   "name": "python3"
  },
  "language_info": {
   "codemirror_mode": {
    "name": "ipython",
    "version": 3
   },
   "file_extension": ".py",
   "mimetype": "text/x-python",
   "name": "python",
   "nbconvert_exporter": "python",
   "pygments_lexer": "ipython3",
   "version": "3.8.5"
  }
 },
 "nbformat": 4,
 "nbformat_minor": 4
}
