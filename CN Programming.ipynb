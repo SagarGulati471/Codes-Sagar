{
 "cells": [
  {
   "cell_type": "code",
   "execution_count": 15,
   "metadata": {},
   "outputs": [
    {
     "name": "stdout",
     "output_type": "stream",
     "text": [
      "HCF =  4\n",
      "LCM =  360\n"
     ]
    }
   ],
   "source": [
    "#GCD  (HCF)\n",
    "\n",
    "a=36\n",
    "b=40\n",
    "def gcd(a,b):\n",
    "    while a!=b:\n",
    "        if a>b:\n",
    "            x=a-b\n",
    "            a=x\n",
    "        else:\n",
    "            x=b-a\n",
    "            b=x\n",
    "    print(\"HCF = \",a)\n",
    "    return a\n",
    "    \n",
    "\n",
    "gcd=gcd(a,b)\n",
    "lcm=a*b//gcd\n",
    "print(\"LCM = \",lcm)"
   ]
  },
  {
   "cell_type": "code",
   "execution_count": 17,
   "metadata": {},
   "outputs": [
    {
     "data": {
      "text/plain": [
       "False"
      ]
     },
     "execution_count": 17,
     "metadata": {},
     "output_type": "execute_result"
    }
   ],
   "source": [
    "#Prime number check\n",
    "\n",
    "import math\n",
    "def is_prime(n):\n",
    "    if n==1:\n",
    "        return False\n",
    "    for i in range(2,int(math.sqrt(n))+1):               #  Time complexity is O(root N)\n",
    "        if n%i==0:\n",
    "            return False\n",
    "    return True\n",
    "\n",
    "is_prime(15)"
   ]
  },
  {
   "cell_type": "markdown",
   "metadata": {},
   "source": [
    "<mark><h1>Find all divisors in a given range</h1></mark>"
   ]
  },
  {
   "cell_type": "code",
   "execution_count": 20,
   "metadata": {},
   "outputs": [
    {
     "name": "stdout",
     "output_type": "stream",
     "text": [
      "[1, 2, 3, 4, 6, 8, 12, 24]\n"
     ]
    }
   ],
   "source": [
    "def divisors(n):\n",
    "    div1=[]\n",
    "    for i in range(1,n+1):                              #O(N) time Complexity\n",
    "        if n%i==0:\n",
    "            div1.append(i)\n",
    "    print(div1)\n",
    "divisors(24)"
   ]
  },
  {
   "cell_type": "code",
   "execution_count": 25,
   "metadata": {},
   "outputs": [
    {
     "name": "stdout",
     "output_type": "stream",
     "text": [
      "{1, 2, 3, 4, 6, 8, 12, 24}\n"
     ]
    }
   ],
   "source": [
    "#Reducing time complexity to O(sqrt(N))\n",
    "\n",
    "\n",
    "import math\n",
    "def divisors(n):  \n",
    "    div2=set()                       # We use set() to avoid the repetition of the divisors\n",
    "    for i in range(1,int(math.sqrt(n))+1):  #It takes O(root(N)) time complexity\n",
    "        if n%i==0:\n",
    "            div2.add(i)\n",
    "            div2.add(n//i)\n",
    "    print(div2)\n",
    "divisors(24)"
   ]
  },
  {
   "cell_type": "code",
   "execution_count": 26,
   "metadata": {},
   "outputs": [
    {
     "data": {
      "text/plain": [
       "4"
      ]
     },
     "execution_count": 26,
     "metadata": {},
     "output_type": "execute_result"
    }
   ],
   "source": [
    "int(4.89)"
   ]
  },
  {
   "cell_type": "markdown",
   "metadata": {},
   "source": [
    "# New Way of printing an iterable object"
   ]
  },
  {
   "cell_type": "code",
   "execution_count": 30,
   "metadata": {},
   "outputs": [
    {
     "name": "stdout",
     "output_type": "stream",
     "text": [
      "1 2 3 4 5\n"
     ]
    }
   ],
   "source": [
    "a=[1,2,3,4,5]\n",
    "print(*a)              #We can directly use a *iterable_name to print elements of an iterable."
   ]
  },
  {
   "cell_type": "code",
   "execution_count": 49,
   "metadata": {},
   "outputs": [
    {
     "name": "stdout",
     "output_type": "stream",
     "text": [
      "2 3 5 7 11 13 17 19 23 29 31 37 41 43 47 53 59 61 67 71 73 79 83 89 97 "
     ]
    }
   ],
   "source": [
    "#Sieve of Erastothenes  (Prime numbers in a given range)\n",
    "\n",
    "import math\n",
    "def is_prime(n):\n",
    "    if n==1:\n",
    "        return False\n",
    "    for i in range(2,int(math.sqrt(n))+1):               #  Time complexity is O(root N)\n",
    "        if n%i==0:\n",
    "            return False\n",
    "    return True\n",
    "\n",
    "\n",
    "\n",
    "def sieve(n):\n",
    "    arr=[True]*(n+1)\n",
    "    arr[0]=False\n",
    "    arr[1]=False\n",
    "    for i in range(2,int(math.sqrt(n))+1):         # It takes O(NLogN) complexity to print all prime numbers from 1 to N\n",
    "        if is_prime(i) and arr[i]==True:\n",
    "            for i in range(i*2,n+1,i):\n",
    "                arr[i]=False\n",
    "    \n",
    "    for i in range(len(arr)):\n",
    "        if arr[i]:\n",
    "            print(i,end=\" \")\n",
    "        \n",
    "sieve(100)   \n"
   ]
  },
  {
   "cell_type": "markdown",
   "metadata": {},
   "source": [
    "# Is the number 'n' a power of 2"
   ]
  },
  {
   "cell_type": "markdown",
   "metadata": {},
   "source": [
    "<h3>2^x ko binary mein represent karne ke liye 1 ke baad x zeroes likh do <br>\n",
    "  Eg- 2^5 means  100000\n",
    "    </h2>"
   ]
  },
  {
   "cell_type": "code",
   "execution_count": null,
   "metadata": {},
   "outputs": [],
   "source": []
  },
  {
   "cell_type": "code",
   "execution_count": null,
   "metadata": {},
   "outputs": [],
   "source": [
    "# Agar kisi number ko left shift by 3 karte hain (n<<3) means us number ko 2*3 se multiply karte hain\n",
    "# Agar kisi number ko right shift by 3 karte hain (n>>3) means us number ko 2*3 se Divide karte hain\n"
   ]
  },
  {
   "cell_type": "code",
   "execution_count": null,
   "metadata": {},
   "outputs": [],
   "source": []
  },
  {
   "cell_type": "code",
   "execution_count": null,
   "metadata": {},
   "outputs": [],
   "source": []
  },
  {
   "cell_type": "code",
   "execution_count": null,
   "metadata": {},
   "outputs": [],
   "source": [
    "#Approach -1\n",
    "\n",
    "x=16\n",
    "def check(x):\n",
    "    if x==1:\n",
    "        return False\n",
    "    return True if bin(x)[2:].count('1')==1 else False\n",
    "print(bin(x)[2:])\n",
    "check(x)"
   ]
  },
  {
   "cell_type": "code",
   "execution_count": 5,
   "metadata": {},
   "outputs": [
    {
     "data": {
      "text/plain": [
       "True"
      ]
     },
     "execution_count": 5,
     "metadata": {},
     "output_type": "execute_result"
    }
   ],
   "source": [
    "def ispowerof2(n):\n",
    "    if n & (n-1) ==0:\n",
    "        return True\n",
    "    else:\n",
    "        return False\n",
    "\n",
    "ispowerof2(512)"
   ]
  },
  {
   "cell_type": "markdown",
   "metadata": {},
   "source": [
    "# Check if a number is a power of 3"
   ]
  },
  {
   "cell_type": "code",
   "execution_count": 16,
   "metadata": {},
   "outputs": [
    {
     "data": {
      "text/plain": [
       "True"
      ]
     },
     "execution_count": 16,
     "metadata": {},
     "output_type": "execute_result"
    }
   ],
   "source": [
    "def ispowerof3(n):\n",
    "    if n<1:\n",
    "        return False\n",
    "    while (n%3==0):\n",
    "        n=n//3\n",
    "    if n==1:\n",
    "        return True\n",
    "    else:\n",
    "        return False\n",
    "        \n",
    "ispowerof3(243)     \n",
    "\n",
    "# Tab tak divide karenge jab tak 1 na bach jaye"
   ]
  },
  {
   "cell_type": "code",
   "execution_count": null,
   "metadata": {},
   "outputs": [],
   "source": [
    "#Method 2\n",
    "\n",
    "# If we have maximum value of the data type like in languages like c++/Java we need to check if max value id divisible \n",
    "# by number n \n",
    "\n",
    "# Max Value is 3^19 = 1162261467\n",
    "\n",
    "def ispowerof3(n):\n",
    "    if n>0 and 1162261467%n==0:\n",
    "        return True\n",
    "    return False\n",
    "\n",
    "ispowerof3(27)"
   ]
  },
  {
   "cell_type": "markdown",
   "metadata": {},
   "source": [
    "# Check if a number is sum of powers of 3"
   ]
  },
  {
   "cell_type": "code",
   "execution_count": 22,
   "metadata": {},
   "outputs": [
    {
     "data": {
      "text/plain": [
       "True"
      ]
     },
     "execution_count": 22,
     "metadata": {},
     "output_type": "execute_result"
    }
   ],
   "source": [
    "def is_sum_of3(n):\n",
    "    for i in range(14,-1,-1):\n",
    "        power=pow(3,i)\n",
    "        if (n-power)>=0:\n",
    "            n-=power\n",
    "        if n==0:\n",
    "            return True\n",
    "    return False\n",
    "\n",
    "is_sum_of3(91)"
   ]
  },
  {
   "cell_type": "markdown",
   "metadata": {},
   "source": [
    "# Converting to other base in python"
   ]
  },
  {
   "cell_type": "code",
   "execution_count": 28,
   "metadata": {},
   "outputs": [
    {
     "name": "stdout",
     "output_type": "stream",
     "text": [
      "Hex =  0x54\n",
      "Decimal =  84\n"
     ]
    }
   ],
   "source": [
    "num=hex(84)\n",
    "print(\"Hex = \",num)\n",
    "decimal=int(num[2:],base=16)\n",
    "print(\"Decimal = \",decimal)"
   ]
  },
  {
   "cell_type": "markdown",
   "metadata": {},
   "source": [
    "# Check which number is occuring only once (when all other numbers are occuring twice)"
   ]
  },
  {
   "cell_type": "code",
   "execution_count": 30,
   "metadata": {},
   "outputs": [
    {
     "name": "stdout",
     "output_type": "stream",
     "text": [
      "3\n"
     ]
    }
   ],
   "source": [
    "a=[1,1,2,2,3,4,4,5,5]\n",
    "ele=a[0]\n",
    "for i in range(1,len(a)):\n",
    "    ele=ele^a[i]\n",
    "print(ele)\n",
    "    "
   ]
  },
  {
   "cell_type": "markdown",
   "metadata": {},
   "source": [
    "# Subarray with given sum\n",
    "\n",
    "https://www.youtube.com/watch?v=ERB54Rpbk7w"
   ]
  },
  {
   "cell_type": "code",
   "execution_count": 20,
   "metadata": {},
   "outputs": [
    {
     "name": "stdout",
     "output_type": "stream",
     "text": [
      "Array is  [2, 3, 7]\n"
     ]
    },
    {
     "data": {
      "text/plain": [
       "[2, 4]"
      ]
     },
     "execution_count": 20,
     "metadata": {},
     "output_type": "execute_result"
    }
   ],
   "source": [
    "# Subarray with sum k using brute force approach\n",
    "\n",
    "arr=[1,2,3,7,5]\n",
    "# arr=[1,2,3,4,5,6,7,8,9,10]\n",
    "k=12\n",
    "def sum_k(arr,k):\n",
    "    for i in range(len(arr)):\n",
    "        for j in range(i+1,len(arr)):\n",
    "            temp=arr[i:j]\n",
    "            if sum(temp)==k:\n",
    "                print(\"Array is \",arr[i:j])\n",
    "                return([i+1,j])\n",
    "    return \"No such array\"\n",
    "\n",
    "sum_k(arr,k)"
   ]
  },
  {
   "cell_type": "code",
   "execution_count": null,
   "metadata": {},
   "outputs": [],
   "source": []
  },
  {
   "cell_type": "code",
   "execution_count": 22,
   "metadata": {},
   "outputs": [
    {
     "data": {
      "text/plain": [
       "[6, 7]"
      ]
     },
     "execution_count": 22,
     "metadata": {},
     "output_type": "execute_result"
    }
   ],
   "source": [
    "# Subarray with sum k finding the array itself\n",
    "\n",
    "def sum_k(arr,k):\n",
    "    sum_arr=[]\n",
    "    i=0\n",
    "    for i in range(len(arr)):\n",
    "        sum_arr.append(arr[i])\n",
    "        while sum(sum_arr)>k:\n",
    "            sum_arr.pop(0)\n",
    "        if sum(sum_arr)==k:\n",
    "            return sum_arr\n",
    "\n",
    "arr=[1,2,4,5,6,7]\n",
    "k=13        \n",
    "sum_k(arr,k)"
   ]
  },
  {
   "cell_type": "code",
   "execution_count": null,
   "metadata": {},
   "outputs": [],
   "source": []
  },
  {
   "cell_type": "code",
   "execution_count": 29,
   "metadata": {},
   "outputs": [
    {
     "data": {
      "text/plain": [
       "[2, 3]"
      ]
     },
     "execution_count": 29,
     "metadata": {},
     "output_type": "execute_result"
    }
   ],
   "source": [
    "# Subarray with sum k finding the array indexes\n",
    "\n",
    "def sum_k(arr,k):\n",
    "    i=0\n",
    "    j=0\n",
    "    sum_arr=0\n",
    "    while i<len(arr):\n",
    "        sum_arr+=arr[i]\n",
    "        i+=1\n",
    "        while sum_arr>k:\n",
    "            sum_arr-=arr[j]\n",
    "            j+=1\n",
    "        if sum_arr==k:\n",
    "            return [j+1,i]\n",
    "    return []\n",
    "\n",
    "    \n",
    "    \n",
    "    \n",
    "arr=[1,2,4,5,6,7]\n",
    "k=6 \n",
    "\n",
    "sum_k(arr,k)"
   ]
  },
  {
   "cell_type": "markdown",
   "metadata": {},
   "source": [
    "# Count Triplets \n",
    "https://practice.geeksforgeeks.org/problems/count-the-triplets4615/1\n",
    "\n",
    "Count pairs which are equal to a number\n",
    "\n",
    "https://www.youtube.com/watch?v=YnEHFYwQwyU"
   ]
  },
  {
   "cell_type": "code",
   "execution_count": 57,
   "metadata": {},
   "outputs": [
    {
     "name": "stdout",
     "output_type": "stream",
     "text": [
      "[2, 5, 8, 10, 11, 12, 14]\n",
      "3\n"
     ]
    }
   ],
   "source": [
    "def count_pairs(arr):\n",
    "    arr.sort()\n",
    "    print(arr)\n",
    "    count=0\n",
    "    for i in range(len(arr)-1,1,-1):\n",
    "#         print(arr[i])\n",
    "        curr_sum=arr[i]\n",
    "        j=0\n",
    "        k=i-1\n",
    "        while j<k:\n",
    "            if (arr[j]+arr[k])==curr_sum:\n",
    "#                 print([arr[j], arr[k],curr_sum])\n",
    "                count+=1\n",
    "                j+=1\n",
    "                k+=1\n",
    "            elif (arr[j]+arr[k])<curr_sum:\n",
    "                j+=1\n",
    "            else:\n",
    "                k-=1\n",
    "    print(count)\n",
    "\n",
    "arr=[12,8,2,11,5,14,10]\n",
    "count_pairs(arr)"
   ]
  },
  {
   "cell_type": "markdown",
   "metadata": {},
   "source": [
    "# Kadane's Algorithm (Maximum sum)"
   ]
  },
  {
   "cell_type": "code",
   "execution_count": 65,
   "metadata": {},
   "outputs": [
    {
     "data": {
      "text/plain": [
       "9"
      ]
     },
     "execution_count": 65,
     "metadata": {},
     "output_type": "execute_result"
    }
   ],
   "source": [
    "def kadane(arr):\n",
    "    curr_sum=arr[0]\n",
    "    max_sum=arr[0]\n",
    "    for i in range(1,len(arr)):\n",
    "        curr_sum=max(arr[i],curr_sum+arr[i])\n",
    "        if curr_sum>max_sum:\n",
    "            max_sum=curr_sum\n",
    "    return max_sum\n",
    "\n",
    "kadane([1,2,3,-2,5])"
   ]
  },
  {
   "cell_type": "code",
   "execution_count": null,
   "metadata": {},
   "outputs": [],
   "source": []
  },
  {
   "cell_type": "code",
   "execution_count": 4,
   "metadata": {},
   "outputs": [
    {
     "name": "stdout",
     "output_type": "stream",
     "text": [
      "6\n"
     ]
    }
   ],
   "source": [
    "# Kadane's algo\n",
    "# it is used to find the maximum sum of contiguous array.\n",
    "\n",
    "def kadane(arr):\n",
    "    curr_sum=arr[0]\n",
    "    max_sum=arr[0]\n",
    "    for i in range(1,len(arr)):\n",
    "        curr_sum=max(arr[i],arr[i]+curr_sum)\n",
    "        if curr_sum>max_sum:\n",
    "            max_sum=curr_sum\n",
    "    return max_sum\n",
    "\n",
    "arr = [-8,2,3,-4,4,-5,6]\n",
    "print(kadane(arr))"
   ]
  },
  {
   "cell_type": "code",
   "execution_count": null,
   "metadata": {},
   "outputs": [],
   "source": []
  },
  {
   "cell_type": "markdown",
   "metadata": {},
   "source": [
    "# Missing number in an array"
   ]
  },
  {
   "cell_type": "code",
   "execution_count": null,
   "metadata": {},
   "outputs": [],
   "source": [
    "# Method 1\n",
    "\n",
    "# Step-1  Ham n tak ke no.s ka sum nikalenge by formula n*(n+1)/2\n",
    "# Step-2  Ham array ka sum nikalenge\n",
    "# Step-3  we will subtract step1 result with step 2 result and this is the missing ans\n"
   ]
  },
  {
   "cell_type": "code",
   "execution_count": 5,
   "metadata": {},
   "outputs": [],
   "source": [
    "def MissingNumber(b,n):\n",
    "        \n",
    "        sum1=int((n*(n+1))/2)\n",
    "        sum2=sum(b)\n",
    "        return sum1-sum2\n",
    "    "
   ]
  },
  {
   "cell_type": "markdown",
   "metadata": {},
   "source": [
    "The above method can have overflow issues in case of variables if values in array are large so we will use \n",
    "<h5> Xor Method </h5>"
   ]
  },
  {
   "cell_type": "code",
   "execution_count": 8,
   "metadata": {},
   "outputs": [
    {
     "name": "stdout",
     "output_type": "stream",
     "text": [
      "6\n"
     ]
    }
   ],
   "source": [
    "from functools import reduce\n",
    "\n",
    "n=7\n",
    "a=[i for i in range(n+1)]\n",
    "b=[1,2,3,4,5,7]\n",
    "\n",
    "xor_a = reduce(lambda x,y:x^y,a)\n",
    "xor_b = reduce(lambda x,y:x^y,b)\n",
    "print(xor_a ^ xor_b)"
   ]
  },
  {
   "cell_type": "markdown",
   "metadata": {},
   "source": [
    "# Merging 2 sorted arrays "
   ]
  },
  {
   "cell_type": "code",
   "execution_count": 15,
   "metadata": {},
   "outputs": [
    {
     "name": "stdout",
     "output_type": "stream",
     "text": [
      "[0, 1, 2, 3, 5, 6, 7, 8, 9]\n"
     ]
    }
   ],
   "source": [
    "def merge(arr1,arr2,n,m):\n",
    "    result=[]\n",
    "    i=0\n",
    "    j=0\n",
    "    while i<n and j<m:\n",
    "        if arr1[i]<arr2[j]:\n",
    "            result.append(arr1[i])\n",
    "            i+=1\n",
    "        else:\n",
    "            result.append(arr2[j])\n",
    "            j+=1\n",
    "    \n",
    "    while i<n:\n",
    "        result.append(arr1[i])\n",
    "        i+=1\n",
    "    while j<m:\n",
    "        result.append(arr2[j])\n",
    "        j+=1\n",
    "    print(result)\n",
    "\n",
    "    \n",
    "    \n",
    "n=4\n",
    "m=5\n",
    "arr1=[1,3,5,7]\n",
    "arr2=[0,2,6,8,9]    \n",
    "merge(arr1,arr2,n,m)\n"
   ]
  },
  {
   "cell_type": "code",
   "execution_count": 14,
   "metadata": {},
   "outputs": [
    {
     "name": "stdout",
     "output_type": "stream",
     "text": [
      "Length of LCS is  4\n"
     ]
    }
   ],
   "source": [
    "def lcs(X, Y, m, n):\n",
    " \n",
    "    if m == 0 or n == 0:\n",
    "        return 0;\n",
    "    elif X[m-1] == Y[n-1]:\n",
    "        return 1 + lcs(X, Y, m-1, n-1);\n",
    "    else:\n",
    "        return max(lcs(X, Y, m, n-1), lcs(X, Y, m-1, n));\n",
    " \n",
    " \n",
    "# Driver program to test the above function\n",
    "X = \"AGGTAB\"\n",
    "Y = \"GXTXAYB\"\n",
    "print(\"Length of LCS is \", lcs(X , Y, len(X), len(Y)))"
   ]
  },
  {
   "cell_type": "markdown",
   "metadata": {},
   "source": [
    "# Merging 2 sorted arrays without using extra space \n",
    "\n",
    "\n",
    "https://www.youtube.com/watch?v=POTD3tZ2S4s&t=267s"
   ]
  },
  {
   "cell_type": "code",
   "execution_count": 9,
   "metadata": {},
   "outputs": [
    {
     "name": "stdout",
     "output_type": "stream",
     "text": [
      "[0, 1, 2, 3, 5, 6, 7, 8, 9]\n"
     ]
    }
   ],
   "source": [
    "arr1=[2,3,5,7,8]\n",
    "arr2=[0,1,6,9]\n",
    "\n",
    "def merge(arr1,arr2):\n",
    "    i=0\n",
    "    j=0\n",
    "    k=len(arr1)-1\n",
    "    \n",
    "    while i<=k and j<len(arr2):\n",
    "\n",
    "        if arr2[j]<=arr1[i] and j<len(arr2):\n",
    "            arr1[k],arr2[j]=arr2[j],arr1[k]                     #Swap the arrays\n",
    "            k-=1\n",
    "            j+=1\n",
    "        else:\n",
    "            i+=1\n",
    "            continue\n",
    "    arr1.sort()\n",
    "    arr2.sort()\n",
    "    \n",
    "merge(arr1,arr2)\n",
    "print(arr1+arr2)"
   ]
  },
  {
   "cell_type": "code",
   "execution_count": 13,
   "metadata": {},
   "outputs": [
    {
     "name": "stdout",
     "output_type": "stream",
     "text": [
      "[6, 5, 4]\n",
      "[1, 2, 3]\n"
     ]
    }
   ],
   "source": [
    "# arr[] = {1,2,3,4,5,6}\n",
    "max_arr=[]\n",
    "min_arr=[]\n",
    "arr=[1,2,3,4,5,6]\n",
    "for i in range(1,len(arr)+1):\n",
    "    if i%2==1:\n",
    "        max_arr.append(max(arr))\n",
    "        arr.remove(max(arr))\n",
    "    else:\n",
    "        min_arr.append(min(arr))\n",
    "        arr.remove(min(arr))\n",
    "print(max_arr)\n",
    "print(min_arr)\n",
    "final=[]\n",
    "for i in range(len(arr)):"
   ]
  },
  {
   "cell_type": "code",
   "execution_count": null,
   "metadata": {},
   "outputs": [],
   "source": []
  }
 ],
 "metadata": {
  "kernelspec": {
   "display_name": "Python 3",
   "language": "python",
   "name": "python3"
  },
  "language_info": {
   "codemirror_mode": {
    "name": "ipython",
    "version": 3
   },
   "file_extension": ".py",
   "mimetype": "text/x-python",
   "name": "python",
   "nbconvert_exporter": "python",
   "pygments_lexer": "ipython3",
   "version": "3.8.5"
  }
 },
 "nbformat": 4,
 "nbformat_minor": 4
}
